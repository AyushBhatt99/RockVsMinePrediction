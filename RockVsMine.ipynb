{
  "nbformat": 4,
  "nbformat_minor": 0,
  "metadata": {
    "colab": {
      "provenance": [],
      "authorship_tag": "ABX9TyN+AaVNgXTutLTpHGwgX8mb",
      "include_colab_link": true
    },
    "kernelspec": {
      "name": "python3",
      "display_name": "Python 3"
    },
    "language_info": {
      "name": "python"
    }
  },
  "cells": [
    {
      "cell_type": "markdown",
      "metadata": {
        "id": "view-in-github",
        "colab_type": "text"
      },
      "source": [
        "<a href=\"https://colab.research.google.com/github/AyushBhatt99/RockVsMinePrediction/blob/main/RockVsMine.ipynb\" target=\"_parent\"><img src=\"https://colab.research.google.com/assets/colab-badge.svg\" alt=\"Open In Colab\"/></a>"
      ]
    },
    {
      "cell_type": "code",
      "execution_count": 2,
      "metadata": {
        "colab": {
          "base_uri": "https://localhost:8080/"
        },
        "id": "xcyOPviDEy-t",
        "outputId": "1471c23b-d506-457d-f841-621c4b401bf4"
      },
      "outputs": [
        {
          "output_type": "stream",
          "name": "stdout",
          "text": [
            "<class 'pandas.core.frame.DataFrame'>\n",
            "RangeIndex: 1000 entries, 0 to 999\n",
            "Data columns (total 11 columns):\n",
            " #   Column      Non-Null Count  Dtype  \n",
            "---  ------      --------------  -----  \n",
            " 0   feature_1   1000 non-null   float64\n",
            " 1   feature_2   1000 non-null   float64\n",
            " 2   feature_3   1000 non-null   float64\n",
            " 3   feature_4   1000 non-null   float64\n",
            " 4   feature_5   1000 non-null   float64\n",
            " 5   feature_6   1000 non-null   float64\n",
            " 6   feature_7   1000 non-null   float64\n",
            " 7   feature_8   1000 non-null   float64\n",
            " 8   feature_9   1000 non-null   float64\n",
            " 9   feature_10  1000 non-null   float64\n",
            " 10  target      1000 non-null   int64  \n",
            "dtypes: float64(10), int64(1)\n",
            "memory usage: 86.1 KB\n",
            "None\n",
            "Accuracy: 0.88\n",
            "Classification Report:\n",
            "              precision    recall  f1-score   support\n",
            "\n",
            "           0       0.84      0.90      0.87        89\n",
            "           1       0.91      0.86      0.89       111\n",
            "\n",
            "    accuracy                           0.88       200\n",
            "   macro avg       0.88      0.88      0.88       200\n",
            "weighted avg       0.88      0.88      0.88       200\n",
            "\n"
          ]
        }
      ],
      "source": [
        "# Step 1: Understanding the Problem\n",
        "\n",
        "# The problem is to classify sonar signals as either rocks or mines.\n",
        "\n",
        "# Step 2: Dataset\n",
        "\n",
        "# Create a synthetic dataset (replace this with your actual data)\n",
        "import pandas as pd\n",
        "from sklearn.datasets import make_classification\n",
        "\n",
        "# Create synthetic dataset\n",
        "X, y = make_classification(n_samples=1000, n_features=10, n_classes=2, random_state=42)\n",
        "\n",
        "# Convert to DataFrame for better handling\n",
        "data = pd.DataFrame(X, columns=[f'feature_{i}' for i in range(1, 11)])\n",
        "data['target'] = y\n",
        "\n",
        "# Step 3: Exploratory Data Analysis (EDA)\n",
        "\n",
        "# Display basic information about the dataset\n",
        "print(data.info())\n",
        "\n",
        "# Step 4: Feature Engineering\n",
        "\n",
        "# In this simple example, no specific feature engineering is performed.\n",
        "\n",
        "# Step 5: Model Selection\n",
        "\n",
        "# Choose a model (Random Forest in this example)\n",
        "from sklearn.ensemble import RandomForestClassifier\n",
        "\n",
        "model = RandomForestClassifier(n_estimators=100, random_state=42)\n",
        "\n",
        "# Step 6: Model Training\n",
        "\n",
        "# Split the data into training and testing sets\n",
        "from sklearn.model_selection import train_test_split\n",
        "\n",
        "features = data.drop('target', axis=1)\n",
        "labels = data['target']\n",
        "\n",
        "X_train, X_test, y_train, y_test = train_test_split(features, labels, test_size=0.2, random_state=42)\n",
        "\n",
        "# Train the model\n",
        "model.fit(X_train, y_train)\n",
        "\n",
        "# Step 7: Model Evaluation\n",
        "\n",
        "# Make predictions on the test set\n",
        "y_pred = model.predict(X_test)\n",
        "\n",
        "# Evaluate the model\n",
        "from sklearn.metrics import accuracy_score, classification_report\n",
        "\n",
        "accuracy = accuracy_score(y_test, y_pred)\n",
        "report = classification_report(y_test, y_pred)\n",
        "\n",
        "# Print results\n",
        "print(f\"Accuracy: {accuracy}\")\n",
        "print(f\"Classification Report:\\n{report}\")\n"
      ]
    },
    {
      "cell_type": "code",
      "source": [],
      "metadata": {
        "id": "eBXQNky_E9_C"
      },
      "execution_count": null,
      "outputs": []
    }
  ]
}